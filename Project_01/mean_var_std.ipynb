{
 "cells": [
  {
   "cell_type": "code",
   "execution_count": 26,
   "id": "63c2a495",
   "metadata": {},
   "outputs": [],
   "source": [
    "import numpy as np"
   ]
  },
  {
   "cell_type": "code",
   "execution_count": 27,
   "id": "b314f655",
   "metadata": {},
   "outputs": [],
   "source": [
    "def validate_list_length (my_list):  #Validates the length of the list and return a ValueError if needed\n",
    "    if (len(my_list) != 9): \n",
    "        print(\"ValueError: List length expected: 9\\nActual list length: \", len(my_list))\n",
    "        aux = (len(my_list)-9) \n",
    "        if (aux < 0):\n",
    "            raise ValueError(f\"Please, add {aux*-1} more elements(s) to the list.\")\n",
    "        else:\n",
    "            raise ValueError(f\"Please, remove {aux} element(s) from the list.\")  \n",
    "    else: \n",
    "        print(\"List validator: List length is valid\\n\")"
   ]
  },
  {
   "cell_type": "code",
   "execution_count": null,
   "id": "1d54202c",
   "metadata": {},
   "outputs": [],
   "source": [
    "def calculate(my_list):\n",
    "    validate_list_length(my_list)\n",
    "    matrix_3x3 = np.array(my_list).reshape(3, 3)\n",
    "\n",
    "    mean = [ #Calculates the mean along rows, along columns and flattened, then put them a list\n",
    "        matrix_3x3.mean(axis=0).tolist(), \n",
    "        matrix_3x3.mean(axis=1).tolist(),  \n",
    "        matrix_3x3.mean()                 \n",
    "    ]\n",
    "    variance = [ #Calculates the variance along rows, along columns and flattened, then put them a list\n",
    "        matrix_3x3.var(axis=0).tolist(),  \n",
    "        matrix_3x3.var(axis=1).tolist(),   \n",
    "        matrix_3x3.var()                 \n",
    "    ]\n",
    "    stdev = [ #Calculates the std dev along rows, along columns and flattened, then put them a list\n",
    "        matrix_3x3.std(axis=0).tolist(),  \n",
    "        matrix_3x3.std(axis=1).tolist(),   \n",
    "        matrix_3x3.std()                   \n",
    "    ]\n",
    "    max =  [ #Calculates the max along rows, along columns and flattened, then put them a list\n",
    "        matrix_3x3.max(axis=0).tolist(),   \n",
    "        matrix_3x3.max(axis=1).tolist(),   \n",
    "        matrix_3x3.max()                 \n",
    "    ]\n",
    "    min = [ #Calculates the min along rows, along columns and flattened, then put them a list\n",
    "        matrix_3x3.min(axis=0).tolist(),   \n",
    "        matrix_3x3.min(axis=1).tolist(),   \n",
    "        matrix_3x3.min()                 \n",
    "    ]\n",
    "    sum = [ #Calculates the sum along rows, along columns and flattened, then put them a list\n",
    "        matrix_3x3.sum(axis=0).tolist(),   \n",
    "        matrix_3x3.sum(axis=1).tolist(),   \n",
    "        matrix_3x3.sum()                   \n",
    "    ]\n",
    "    return sum, min, max, stdev, variance, mean\n",
    "\n"
   ]
  },
  {
   "cell_type": "code",
   "execution_count": 44,
   "id": "5810147d",
   "metadata": {},
   "outputs": [
    {
     "name": "stdout",
     "output_type": "stream",
     "text": [
      "List validator: List length is valid\n",
      "\n",
      "\n",
      " Mean: [[3.0, 4.0, 5.0], [1.0, 4.0, 7.0], np.float64(4.0)]\n",
      "\n",
      "\n",
      " Variance: [[6.0, 6.0, 6.0], [0.6666666666666666, 0.6666666666666666, 0.6666666666666666], np.float64(6.666666666666667)]\n",
      "\n",
      "\n",
      " Standard Deviation: [[2.449489742783178, 2.449489742783178, 2.449489742783178], [0.816496580927726, 0.816496580927726, 0.816496580927726], np.float64(2.581988897471611)]\n",
      "\n",
      "\n",
      " Max: [[6, 7, 8], [2, 5, 8], np.int64(8)]\n",
      "\n",
      "\n",
      " Min: [[0, 1, 2], [0, 3, 6], np.int64(0)]\n",
      "\n",
      "\n",
      " Sum: [[9, 12, 15], [3, 12, 21], np.int64(36)]\n",
      "\n"
     ]
    }
   ],
   "source": [
    "my_list = ([0,1,2,3,4,5,6,7,8])\n",
    "result = calculate(my_list)\n",
    "\n",
    "print(f\"\\n Mean: {result[5]}\\n\")\n",
    "print(f\"\\n Variance: {result[4]}\\n\")\n",
    "print(f\"\\n Standard Deviation: {result[3]}\\n\")\n",
    "print(f\"\\n Max: {result[2]}\\n\")\n",
    "print(f\"\\n Min: {result[1]}\\n\")\n",
    "print(f\"\\n Sum: {result[0]}\\n\")"
   ]
  }
 ],
 "metadata": {
  "kernelspec": {
   "display_name": "Python 3",
   "language": "python",
   "name": "python3"
  },
  "language_info": {
   "codemirror_mode": {
    "name": "ipython",
    "version": 3
   },
   "file_extension": ".py",
   "mimetype": "text/x-python",
   "name": "python",
   "nbconvert_exporter": "python",
   "pygments_lexer": "ipython3",
   "version": "3.13.3"
  }
 },
 "nbformat": 4,
 "nbformat_minor": 5
}
