{
 "cells": [
  {
   "cell_type": "code",
   "execution_count": null,
   "id": "50ea21ba",
   "metadata": {},
   "outputs": [],
   "source": [
    "import pandas as pd"
   ]
  },
  {
   "cell_type": "code",
   "execution_count": 55,
   "id": "66532ffa",
   "metadata": {},
   "outputs": [],
   "source": [
    "def calculate_demographic_data(print_data=True):\n",
    "    # Read data from file\n",
    "    df = pd.read_csv(r'C:\\Users\\Inteli\\Documents\\Modulo 3\\Ponderadas_Modulo_03\\Project_02\\adult.data.csv')\n",
    "\n",
    "    race_count = df['race'].value_counts()\n",
    "\n",
    "    average_age_men = df[df['sex'] == 'Male']['age'].mean()\n",
    "\n",
    "    percentage_bachelors = ((df['education'] == 'Bachelors' ).sum() / len(df)) * 100\n",
    "\n",
    "\n",
    "    higher_education = ((df['education'].isin(['Bachelors', 'Masters', 'Doctorate']))).sum() / len(df) * 100\n",
    "    lower_education = ((~df['education'].isin(['Bachelors', 'Masters', 'Doctorate']))).sum() / len(df) * 100\n",
    "\n",
    "    higher_education_rich = ((df['education'].isin(['Bachelors', 'Masters', 'Doctorate'])) & (df['salary'] == '>50K')).sum() / len(df) * 100\n",
    "    lower_education_rich = ((~df['education'].isin(['Bachelors', 'Masters', 'Doctorate'])) & (df['salary'] == '>50K')).sum() / len(df) * 100\n",
    "\n",
    "    min_work_hours = df[~df['occupation'].isin(['?'])]['hours-per-week'].min() #Not considering rows with not known occupations ('?')\n",
    "\n",
    "    num_min_workers = (df['hours-per-week'] == df['hours-per-week'].min()).sum()\n",
    "\n",
    "    rich_percentage = ((df['hours-per-week'] == df['hours-per-week'].min()) & (df['salary'] == '>50K')).sum() / len(df) * 100\n",
    "\n",
    "    # What country has the highest percentage of people that earn >50K?\n",
    "    highest_earning_country = 0\n",
    "    highest_earning_country_percentage = 0\n",
    "\n",
    "    # Identify the most popular occupation for those who earn >50K in India.\n",
    "    top_IN_occupation = 0\n",
    "\n",
    "\n",
    "    if print_data:\n",
    "        print(\"Number of each race:\\n\", race_count) \n",
    "        print(\"\\nAverage age of men:\", average_age_men)\n",
    "        print(f\"\\nPercentage with Bachelors degrees: {percentage_bachelors}%\")\n",
    "        print(f\"\\nPercentage with higher education that earn >50K: {higher_education_rich}%\")\n",
    "        print(f\"\\nPercentage without higher education that earn >50K: {lower_education_rich}%\")\n",
    "        print(f\"\\nMin work time: {min_work_hours} hours/week\")\n",
    "        print(f\"\\nPercentage of rich among those who work fewest hours: {rich_percentage}%\")\n",
    "        print(\"\\nCountry with highest percentage of rich:\", highest_earning_country)\n",
    "        print(f\"\\nHighest percentage of rich people in country: {highest_earning_country_percentage}%\")\n",
    "        print(\"\\nTop occupations in India:\", top_IN_occupation)\n",
    "\n",
    "    return {\n",
    "        'race_count': race_count,\n",
    "        'average_age_men': average_age_men,\n",
    "        'percentage_bachelors': percentage_bachelors,\n",
    "        'higher_education_rich': higher_education_rich,\n",
    "        'lower_education_rich': lower_education_rich,\n",
    "        'min_work_hours': min_work_hours,\n",
    "        'rich_percentage': rich_percentage,\n",
    "        'highest_earning_country': highest_earning_country,\n",
    "        'highest_earning_country_percentage': highest_earning_country_percentage,\n",
    "        'top_IN_occupation': top_IN_occupation\n",
    "    }"
   ]
  },
  {
   "cell_type": "code",
   "execution_count": 56,
   "id": "5ae359fa",
   "metadata": {},
   "outputs": [
    {
     "name": "stdout",
     "output_type": "stream",
     "text": [
      "Number of each race:\n",
      " race\n",
      "White                 27816\n",
      "Black                  3124\n",
      "Asian-Pac-Islander     1039\n",
      "Amer-Indian-Eskimo      311\n",
      "Other                   271\n",
      "Name: count, dtype: int64\n",
      "\n",
      "Average age of men: 39.43354749885268\n",
      "\n",
      "Percentage with Bachelors degrees: 16.44605509658794%\n",
      "\n",
      "Percentage with higher education that earn >50K: 10.706059396210192%\n",
      "\n",
      "Percentage without higher education that earn >50K: 13.374896348392248%\n",
      "\n",
      "Min work time: 1 hours/week\n",
      "\n",
      "Percentage of rich among those who work fewest hours: 0.006142317496391388%\n",
      "\n",
      "Country with highest percentage of rich: 0\n",
      "\n",
      "Highest percentage of rich people in country: 0%\n",
      "\n",
      "Top occupations in India: 0\n"
     ]
    },
    {
     "data": {
      "text/plain": [
       "{'race_count': race\n",
       " White                 27816\n",
       " Black                  3124\n",
       " Asian-Pac-Islander     1039\n",
       " Amer-Indian-Eskimo      311\n",
       " Other                   271\n",
       " Name: count, dtype: int64,\n",
       " 'average_age_men': np.float64(39.43354749885268),\n",
       " 'percentage_bachelors': np.float64(16.44605509658794),\n",
       " 'higher_education_rich': np.float64(10.706059396210192),\n",
       " 'lower_education_rich': np.float64(13.374896348392248),\n",
       " 'min_work_hours': np.int64(1),\n",
       " 'rich_percentage': np.float64(0.006142317496391388),\n",
       " 'highest_earning_country': 0,\n",
       " 'highest_earning_country_percentage': 0,\n",
       " 'top_IN_occupation': 0}"
      ]
     },
     "execution_count": 56,
     "metadata": {},
     "output_type": "execute_result"
    }
   ],
   "source": [
    "calculate_demographic_data(True)"
   ]
  }
 ],
 "metadata": {
  "kernelspec": {
   "display_name": "Python 3",
   "language": "python",
   "name": "python3"
  },
  "language_info": {
   "codemirror_mode": {
    "name": "ipython",
    "version": 3
   },
   "file_extension": ".py",
   "mimetype": "text/x-python",
   "name": "python",
   "nbconvert_exporter": "python",
   "pygments_lexer": "ipython3",
   "version": "3.13.3"
  }
 },
 "nbformat": 4,
 "nbformat_minor": 5
}
