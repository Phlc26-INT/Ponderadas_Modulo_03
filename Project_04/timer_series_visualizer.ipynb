{
 "cells": [
  {
   "cell_type": "code",
   "execution_count": 3,
   "id": "6dfbdb66",
   "metadata": {},
   "outputs": [],
   "source": [
    "import numpy as np\n",
    "import pandas as pd \n",
    "import matplotlib.pyplot as plt\n",
    "import seaborn as sns\n",
    "import sklearn  "
   ]
  },
  {
   "cell_type": "code",
   "execution_count": null,
   "id": "3f36ced4",
   "metadata": {},
   "outputs": [],
   "source": [
    "df = pd.read_csv(\"fcc-forum-pageviews.csv\", parse_dates = ['date'], index_col = 'date') # Aqui o código transforma a coluna data em formato data e utiliza ela como index, além de ler o arquivo\n",
    "\n",
    "df = df [(df[\"value\"] >= df[\"value\"].quantile(0.025)) & (df[\"value\"] <= df[\"value\"].quantile(0.975)) ] # Aqui o código remove outliers\n",
    "\n",
    "def draw_line_plot():\n",
    "    fig, ax = plt.subplots(figsize = (10,5)) \n",
    "    ax.plot(df.index, df['value'], 'r', linewidth = 1) # Aqui o código gera o gráfico de linha \n",
    "\n",
    "    ax.set_title('Forum Page View 05/2016 -> 12/2019')\n",
    "    ax.set_xlabel('Date')\n",
    "    ax.set_ylabel('Page Views')\n",
    "\n",
    "    fig.savefig('line_plot.png')\n",
    "    return fig\n"
   ]
  },
  {
   "cell_type": "code",
   "execution_count": 5,
   "id": "0ad9b029",
   "metadata": {},
   "outputs": [
    {
     "ename": "",
     "evalue": "",
     "output_type": "error",
     "traceback": [
      "\u001b[1;31mThe Kernel crashed while executing code in the current cell or a previous cell. \n",
      "\u001b[1;31mPlease review the code in the cell(s) to identify a possible cause of the failure. \n",
      "\u001b[1;31mClick <a href='https://aka.ms/vscodeJupyterKernelCrash'>here</a> for more info. \n",
      "\u001b[1;31mView Jupyter <a href='command:jupyter.viewOutput'>log</a> for further details."
     ]
    }
   ],
   "source": [
    "draw_line_plot()"
   ]
  }
 ],
 "metadata": {
  "kernelspec": {
   "display_name": "Python 3",
   "language": "python",
   "name": "python3"
  },
  "language_info": {
   "codemirror_mode": {
    "name": "ipython",
    "version": 3
   },
   "file_extension": ".py",
   "mimetype": "text/x-python",
   "name": "python",
   "nbconvert_exporter": "python",
   "pygments_lexer": "ipython3",
   "version": "3.13.3"
  }
 },
 "nbformat": 4,
 "nbformat_minor": 5
}
